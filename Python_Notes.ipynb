{
 "cells": [
  {
   "cell_type": "markdown",
   "id": "ecd09428",
   "metadata": {},
   "source": [
    "## 1. Python Main With Examples"
   ]
  },
  {
   "cell_type": "code",
   "execution_count": 5,
   "id": "03e13af3",
   "metadata": {},
   "outputs": [
    {
     "name": "stdout",
     "output_type": "stream",
     "text": [
      "Guru99\n"
     ]
    }
   ],
   "source": [
    "def main():\n",
    "     print(\"hello world!\")\n",
    "print(\"Guru99\")"
   ]
  },
  {
   "cell_type": "code",
   "execution_count": 6,
   "id": "b58bcd04",
   "metadata": {},
   "outputs": [
    {
     "name": "stdout",
     "output_type": "stream",
     "text": [
      "Hello World!\n",
      "Ravi19\n"
     ]
    }
   ],
   "source": [
    "def main():\n",
    "  print(\"Hello World!\")\n",
    "  \n",
    "if __name__== \"__main__\":\n",
    "  main()\n",
    "\n",
    "print(\"Ravi19\")"
   ]
  },
  {
   "cell_type": "markdown",
   "id": "94da9e9e",
   "metadata": {},
   "source": [
    "## 2. Python Variables: Declare, Concatenate, Global & Local "
   ]
  },
  {
   "cell_type": "code",
   "execution_count": 10,
   "id": "cbc1b857",
   "metadata": {},
   "outputs": [
    {
     "name": "stdout",
     "output_type": "stream",
     "text": [
      "100\n"
     ]
    }
   ],
   "source": [
    "a=100 \n",
    "print(a)"
   ]
  },
  {
   "cell_type": "code",
   "execution_count": 12,
   "id": "58ebfec0",
   "metadata": {},
   "outputs": [
    {
     "name": "stdout",
     "output_type": "stream",
     "text": [
      "0\n",
      "guru99\n"
     ]
    }
   ],
   "source": [
    "# Declare a variable and initialize it\n",
    "f = 0\n",
    "print(f)\n",
    "# re-declaring the variable works\n",
    "f = 'guru99'\n",
    "print(f)"
   ]
  },
  {
   "cell_type": "code",
   "execution_count": 14,
   "id": "75355058",
   "metadata": {},
   "outputs": [
    {
     "name": "stdout",
     "output_type": "stream",
     "text": [
      "Guru99\n"
     ]
    }
   ],
   "source": [
    "a=\"Guru\"\n",
    "b = 99\n",
    "print(a+str(b))"
   ]
  },
  {
   "cell_type": "code",
   "execution_count": 15,
   "id": "18c133a2",
   "metadata": {},
   "outputs": [
    {
     "name": "stdout",
     "output_type": "stream",
     "text": [
      "101\n",
      "I am learning Python\n",
      "101\n"
     ]
    }
   ],
   "source": [
    "# Declare a variable and initialize it\n",
    "f = 101\n",
    "print(f)\n",
    "# Global vs. local variables in functions\n",
    "def someFunction():\n",
    "# global f\n",
    "    f = 'I am learning Python'\n",
    "    print(f)\n",
    "someFunction()\n",
    "print(f)"
   ]
  },
  {
   "cell_type": "code",
   "execution_count": 16,
   "id": "973c1e8b",
   "metadata": {},
   "outputs": [
    {
     "name": "stdout",
     "output_type": "stream",
     "text": [
      "101\n",
      "101\n",
      "changing global variable\n"
     ]
    }
   ],
   "source": [
    "f = 101;\n",
    "print(f)\n",
    "# Global vs.local variables in functions\n",
    "def someFunction():\n",
    "  global f\n",
    "print(f)\n",
    "f = \"changing global variable\"\n",
    "someFunction()\n",
    "print(f)"
   ]
  },
  {
   "cell_type": "code",
   "execution_count": 19,
   "id": "3e7dab99",
   "metadata": {},
   "outputs": [
    {
     "name": "stdout",
     "output_type": "stream",
     "text": [
      "11\n",
      "name 'f' is not defined\n"
     ]
    }
   ],
   "source": [
    "#deleting a variable\n",
    "f = 11;\n",
    "print(f)\n",
    "del f\n",
    "try:\n",
    "    print(f)\n",
    "except Exception as e:\n",
    "    print(e)"
   ]
  },
  {
   "cell_type": "markdown",
   "id": "ddba0bbb",
   "metadata": {},
   "source": [
    "## 3. Python Strings: Replace, Join, Split, Reverse, Uppercase & Lowercase"
   ]
  },
  {
   "cell_type": "code",
   "execution_count": 21,
   "id": "c0576481",
   "metadata": {},
   "outputs": [
    {
     "name": "stdout",
     "output_type": "stream",
     "text": [
      "var1[0]: G\n",
      "var2[1:5]: oftw\n"
     ]
    }
   ],
   "source": [
    "var1 = \"Guru99!\"\n",
    "var2 = \"Software Testing\"\n",
    "print(\"var1[0]:\",var1[0])\n",
    "print(\"var2[1:5]:\",var2[1:5])"
   ]
  },
  {
   "cell_type": "code",
   "execution_count": 22,
   "id": "a37c04c9",
   "metadata": {},
   "outputs": [
    {
     "name": "stdout",
     "output_type": "stream",
     "text": [
      "I love Guru99\n"
     ]
    }
   ],
   "source": [
    "oldstring = 'I like Guru99' \n",
    "newstring = oldstring.replace('like', 'love')\n",
    "print(newstring)"
   ]
  },
  {
   "cell_type": "code",
   "execution_count": 25,
   "id": "c61c92c0",
   "metadata": {},
   "outputs": [
    {
     "name": "stdout",
     "output_type": "stream",
     "text": [
      "PYTHON AT GURU99\n",
      "Python at guru99\n",
      "python at guru99\n"
     ]
    }
   ],
   "source": [
    "string=\"python at guru99\"\n",
    "print(string.upper())\n",
    "\n",
    "string=\"python at guru99\"\n",
    "print(string.capitalize())\n",
    "\n",
    "string=\"PYTHON AT GURU99\"\n",
    "print(string.lower())"
   ]
  },
  {
   "cell_type": "code",
   "execution_count": 26,
   "id": "753563f5",
   "metadata": {},
   "outputs": [
    {
     "name": "stdout",
     "output_type": "stream",
     "text": [
      "P:y:t:h:o:n\n",
      "54321\n",
      "['guru99', 'career', 'guru99']\n",
      "['gu', 'u99 ca', 'ee', ' gu', 'u99']\n"
     ]
    }
   ],
   "source": [
    "print(\":\".join(\"Python\"))\n",
    "\n",
    "string=\"12345\"\n",
    "print(''.join(reversed(string)))\n",
    "\n",
    "word=\"guru99 career guru99\"\t\t\n",
    "print(word.split(' '))\n",
    "\n",
    "word=\"guru99 career guru99\"\t\t\n",
    "print(word.split('r'))"
   ]
  },
  {
   "cell_type": "code",
   "execution_count": 27,
   "id": "ccabc54d",
   "metadata": {},
   "outputs": [
    {
     "name": "stdout",
     "output_type": "stream",
     "text": [
      "Guru99\n",
      "Python\n"
     ]
    }
   ],
   "source": [
    "x = \"Guru99\"\n",
    "x.replace(\"Guru99\",\"Python\")\n",
    "print(x)\n",
    "\n",
    "x = \"Guru99\"\n",
    "x = x.replace(\"Guru99\",\"Python\")\n",
    "print(x)\n"
   ]
  },
  {
   "cell_type": "markdown",
   "id": "4c082a4b",
   "metadata": {},
   "source": [
    "## 4. Python TUPLE - Pack, Unpack, Compare, Slicing, Delete, Key"
   ]
  },
  {
   "cell_type": "code",
   "execution_count": 3,
   "id": "6b2e48b8",
   "metadata": {},
   "outputs": [
    {
     "name": "stdout",
     "output_type": "stream",
     "text": [
      "('Jan', 'feb', 'march') (50,)\n"
     ]
    }
   ],
   "source": [
    "Tup = ('Jan','feb','march')\n",
    "Tup1 = (50,);\n",
    "print(Tup,Tup1)"
   ]
  },
  {
   "cell_type": "code",
   "execution_count": 30,
   "id": "a57eb1e0",
   "metadata": {},
   "outputs": [
    {
     "name": "stdout",
     "output_type": "stream",
     "text": [
      "Robert\n",
      "(2, 3, 4)\n"
     ]
    }
   ],
   "source": [
    "tup1 = ('Robert', 'Carlos','1965','Terminator 1995', 'Actor','Florida');\n",
    "tup2 = (1,2,3,4,5,6,7);\n",
    "print(tup1[0])\n",
    "print(tup2[1:4])"
   ]
  },
  {
   "cell_type": "code",
   "execution_count": 31,
   "id": "1b19d160",
   "metadata": {},
   "outputs": [
    {
     "name": "stdout",
     "output_type": "stream",
     "text": [
      "Guru99\n",
      "20\n",
      "Education\n"
     ]
    }
   ],
   "source": [
    "x = (\"Guru99\", 20, \"Education\")    # tuple packing\n",
    "(company, emp, profile) = x    # tuple unpacking\n",
    "print(company)\n",
    "print(emp)\n",
    "print(profile)"
   ]
  },
  {
   "cell_type": "code",
   "execution_count": 33,
   "id": "a9990431",
   "metadata": {},
   "outputs": [
    {
     "name": "stdout",
     "output_type": "stream",
     "text": [
      "a is bigger\n",
      "a is bigger\n",
      "b is bigger\n"
     ]
    }
   ],
   "source": [
    "#case 1\n",
    "a=(5,6)\n",
    "b=(1,4)\n",
    "if (a>b):print(\"a is bigger\")\n",
    "else: print(\"b is bigger\")\n",
    "\n",
    "#case 2\n",
    "a=(5,6)\n",
    "b=(5,4)\n",
    "if (a>b):print(\"a is bigger\")\n",
    "else: print (\"b is bigger\")\n",
    "\n",
    "#case 3\n",
    "a=(5,6)\n",
    "b=(6,4)\n",
    "if (a>b):print(\"a is bigger\")\n",
    "else: print(\"b is bigger\")\n"
   ]
  },
  {
   "cell_type": "code",
   "execution_count": 36,
   "id": "7571b4b9",
   "metadata": {},
   "outputs": [
    {
     "name": "stdout",
     "output_type": "stream",
     "text": [
      "Robert\n",
      "(2, 3, 4)\n",
      "Guru99\n",
      "20\n",
      "Education\n",
      "a is bigger\n",
      "a is bigger\n",
      "b is bigger\n",
      "dict_items([('x', 100), ('y', 200)])\n",
      "('c', 'd')\n"
     ]
    }
   ],
   "source": [
    "tup1 = ('Robert', 'Carlos','1965','Terminator 1995', 'Actor','Florida');\n",
    "tup2 = (1,2,3,4,5,6,7);\n",
    "print (tup1[0])\n",
    "print (tup2[1:4])\n",
    "\n",
    "#Packing and Unpacking\n",
    "x = (\"Guru99\", 20, \"Education\")    # tuple packing\n",
    "(company, emp, profile) = x    # tuple unpacking\n",
    "print (company)\n",
    "print (emp)\n",
    "print (profile)\n",
    "\n",
    "#Comparing tuples\n",
    "#case 1\n",
    "a=(5,6)\n",
    "b=(1,4)\n",
    "if (a>b):print (\"a is bigger\")\n",
    "else: print (\"b is bigger\")\n",
    "\n",
    "#case 2\n",
    "a=(5,6)\n",
    "b=(5,4)\n",
    "if (a>b):print (\"a is bigger\")\n",
    "else: print (\"b is bigger\")\n",
    "\n",
    "#case 3\n",
    "a=(5,6)\n",
    "b=(6,4)\n",
    "if (a>b):print (\"a is bigger\")\n",
    "else: print (\"b is bigger\")\n",
    "\n",
    "#Tuples and dictionary\n",
    "a = {'x':100, 'y':200}\n",
    "b = a.items()\n",
    "print (b) \n",
    "\n",
    "#Slicing of Tuple\n",
    "x = (\"a\", \"b\",\"c\", \"d\", \"e\")\n",
    "print (x[2:4])\n"
   ]
  },
  {
   "cell_type": "markdown",
   "id": "54068e99",
   "metadata": {},
   "source": [
    "## 5. Python Dictionary(Dict): Update, Cmp, Len, Sort, Copy, Items, str "
   ]
  },
  {
   "cell_type": "code",
   "execution_count": 37,
   "id": "fe6e5fd5",
   "metadata": {},
   "outputs": [
    {
     "name": "stdout",
     "output_type": "stream",
     "text": [
      "{'Tim': 18, 'Charlie': 12, 'Robert': 25}\n",
      "{'Tiffany': 22}\n"
     ]
    }
   ],
   "source": [
    "Dict = {'Tim': 18,'Charlie':12,'Tiffany':22,'Robert':25}\t\n",
    "Boys = {'Tim': 18,'Charlie':12,'Robert':25}\n",
    "Girls = {'Tiffany':22}\t\n",
    "studentX=Boys.copy()\n",
    "studentY=Girls.copy()\n",
    "print(studentX)\n",
    "print(studentY)\n"
   ]
  },
  {
   "cell_type": "code",
   "execution_count": 38,
   "id": "325590bf",
   "metadata": {},
   "outputs": [
    {
     "name": "stdout",
     "output_type": "stream",
     "text": [
      "{'Tim': 18, 'Charlie': 12, 'Tiffany': 22, 'Robert': 25, 'Sarah': 9}\n",
      "{'Tim': 18, 'Tiffany': 22, 'Robert': 25}\n",
      "Students Name: [('Tim', 18), ('Charlie', 12), ('Tiffany', 22), ('Robert', 25)]\n",
      "True\n",
      "True\n",
      "True\n",
      "Charlie:12\n",
      "Robert:25\n",
      "Tiffany:22\n",
      "Tim:18\n"
     ]
    }
   ],
   "source": [
    "#Updating dictionary\n",
    "Dict = {'Tim': 18,'Charlie':12,'Tiffany':22,'Robert':25}\t\n",
    "Dict.update({\"Sarah\":9})\n",
    "print(Dict)\n",
    "\n",
    "#Delete Keys from the dictionary\n",
    "Dict = {'Tim': 18,'Charlie':12,'Tiffany':22,'Robert':25}\t\n",
    "del Dict ['Charlie']\n",
    "print(Dict)\n",
    "\n",
    "#Dictionary items() Method\n",
    "Dict = {'Tim': 18,'Charlie':12,'Tiffany':22,'Robert':25}\t\n",
    "print(\"Students Name: %s\" % list(Dict.items()))\n",
    "\n",
    "#Check if a given key already exists in a dictionary\n",
    "Dict = {'Tim': 18,'Charlie':12,'Tiffany':22,'Robert':25}\n",
    "Boys = {'Tim': 18,'Charlie':12,'Robert':25}\n",
    "Girls = {'Tiffany':22}\n",
    "for key in list(Boys.keys()):\n",
    "    if key in list(Dict.keys()):\n",
    "        print(True)\n",
    "    else:       \n",
    "        print(False)\n",
    "\n",
    "#Sorting the Dictionary\n",
    "Dict = {'Tim': 18,'Charlie':12,'Tiffany':22,'Robert':25}\n",
    "Boys = {'Tim': 18,'Charlie':12,'Robert':25}\n",
    "Girls = {'Tiffany':22}\n",
    "Students = list(Dict.keys())\n",
    "Students.sort()\n",
    "for S in Students:\n",
    "      print(\":\".join((S,str(Dict[S]))))\n"
   ]
  },
  {
   "cell_type": "code",
   "execution_count": 41,
   "id": "fcf1dde0",
   "metadata": {},
   "outputs": [
    {
     "name": "stdout",
     "output_type": "stream",
     "text": [
      "Length : 4\n",
      "variable Type: <class 'dict'>\n",
      "printable string:{'Tim': 18, 'Charlie': 12, 'Tiffany': 22, 'Robert': 25}\n"
     ]
    }
   ],
   "source": [
    "#Python Dictionary in-built Functions\n",
    "\n",
    "#Dictionary len() Method\n",
    "Dict = {'Tim': 18,'Charlie':12,'Tiffany':22,'Robert':25}\t\n",
    "print(\"Length : %d\" % len (Dict))\n",
    "\n",
    "#Variable Types\n",
    "Dict = {'Tim': 18,'Charlie':12,'Tiffany':22,'Robert':25}\t\n",
    "print(\"variable Type: %s\" %type (Dict))\n",
    "\n",
    "#Dictionary Str(dict)\n",
    "Dict = {'Tim': 18,'Charlie':12,'Tiffany':22,'Robert':25}\t\n",
    "print(\"printable string:%s\" % str (Dict))\n"
   ]
  },
  {
   "cell_type": "markdown",
   "id": "a6b7dedd",
   "metadata": {},
   "source": [
    "## 6. Python Operators: Arithmetic, Logical, Comparison, Assignment, Bitwise & Precedence"
   ]
  },
  {
   "cell_type": "code",
   "execution_count": 42,
   "id": "65d8199e",
   "metadata": {},
   "outputs": [
    {
     "name": "stdout",
     "output_type": "stream",
     "text": [
      "9\n"
     ]
    }
   ],
   "source": [
    "#ARITHMETIC OPERATOR\n",
    "\n",
    "x= 4\t\n",
    "y= 5\n",
    "print(x + y)\n"
   ]
  },
  {
   "cell_type": "code",
   "execution_count": 43,
   "id": "63016d59",
   "metadata": {},
   "outputs": [
    {
     "name": "stdout",
     "output_type": "stream",
     "text": [
      "('x > y  is', False)\n"
     ]
    }
   ],
   "source": [
    "#COMPARISON OPERATOR\n",
    "x = 4\n",
    "y = 5\n",
    "print(('x > y  is',x>y))\n"
   ]
  },
  {
   "cell_type": "code",
   "execution_count": 44,
   "id": "03963dc7",
   "metadata": {},
   "outputs": [
    {
     "name": "stdout",
     "output_type": "stream",
     "text": [
      "('Line 1 - Value of num1 : ', 4)\n",
      "('Line 2 - Value of num2 : ', 5)\n"
     ]
    }
   ],
   "source": [
    "#ASSIGNMENT OPERATOR\n",
    "num1 = 4\n",
    "num2 = 5\n",
    "print((\"Line 1 - Value of num1 : \", num1))\n",
    "print((\"Line 2 - Value of num2 : \", num2))\n"
   ]
  },
  {
   "cell_type": "code",
   "execution_count": 45,
   "id": "70cb5661",
   "metadata": {},
   "outputs": [
    {
     "name": "stdout",
     "output_type": "stream",
     "text": [
      "('a and b is', False)\n",
      "('a or b is', True)\n",
      "('not a is', False)\n"
     ]
    }
   ],
   "source": [
    "#LOGICAL OPERATOR\n",
    "a = True\n",
    "b = False\n",
    "print(('a and b is',a and b))\n",
    "print(('a or b is',a or b))\n",
    "print(('not a is',not a))\n"
   ]
  },
  {
   "cell_type": "code",
   "execution_count": 46,
   "id": "7aabcfee",
   "metadata": {},
   "outputs": [
    {
     "name": "stdout",
     "output_type": "stream",
     "text": [
      "Line 1 - x is available in the given list\n",
      "Line 2 - y is not available in the given list\n"
     ]
    }
   ],
   "source": [
    "#MEMBERSHIP OPERATOR\n",
    "x = 4\n",
    "y = 8\n",
    "list = [1, 2, 3, 4, 5 ];\n",
    "if ( x in list ):\n",
    "   print(\"Line 1 - x is available in the given list\")\n",
    "else:\n",
    "   print(\"Line 1 - x is not available in the given list\")\n",
    "if ( y not in list ):\n",
    "   print(\"Line 2 - y is not available in the given list\")\n",
    "else:\n",
    "   print(\"Line 2 - y is available in the given list\")\n"
   ]
  },
  {
   "cell_type": "code",
   "execution_count": 47,
   "id": "7f50b939",
   "metadata": {},
   "outputs": [
    {
     "name": "stdout",
     "output_type": "stream",
     "text": [
      "x & y  SAME identity\n",
      "x & y have DIFFERENT identity\n"
     ]
    }
   ],
   "source": [
    "#IDENTITY OPERATORS\n",
    "x = 20\n",
    "y = 20\n",
    "if ( x is y ): \n",
    "\tprint(\"x & y  SAME identity\")\n",
    "y=30\n",
    "if ( x is not y ):\n",
    "\tprint(\"x & y have DIFFERENT identity\")\n",
    "\n",
    "    "
   ]
  },
  {
   "cell_type": "code",
   "execution_count": 48,
   "id": "a82663db",
   "metadata": {},
   "outputs": [
    {
     "name": "stdout",
     "output_type": "stream",
     "text": [
      "Value of (v+w) * x/ y is  36.0\n"
     ]
    }
   ],
   "source": [
    "#OPERATORS PRECEDNECE\n",
    "v = 4\n",
    "w = 5\n",
    "x = 8\n",
    "y = 2\n",
    "z = 0\n",
    "z = (v+w) * x / y;   \n",
    "print(\"Value of (v+w) * x/ y is \",  z)\n"
   ]
  },
  {
   "cell_type": "markdown",
   "id": "987a1bf0",
   "metadata": {},
   "source": [
    "## 7. Python Functions Examples: Call, Indentation, Arguments & Return Values"
   ]
  },
  {
   "cell_type": "code",
   "execution_count": 50,
   "id": "03a29225",
   "metadata": {},
   "outputs": [
    {
     "name": "stdout",
     "output_type": "stream",
     "text": [
      "I am learning Python function\n",
      "still in func1\n",
      "16\n",
      "value of x= 4\n",
      "value of y= 2\n",
      "8\n"
     ]
    }
   ],
   "source": [
    "#define a function\n",
    "def func1():\n",
    "   print (\"I am learning Python function\")\n",
    "   print (\"still in func1\")\n",
    "   \n",
    "func1()\n",
    "\n",
    "def square(x):\n",
    "  \treturn x*x\n",
    "print(square(4))\n",
    "\n",
    "def multiply(x,y=0):\n",
    "\tprint(\"value of x=\",x)\n",
    "\tprint(\"value of y=\",y)\n",
    "    \n",
    "\treturn x*y\n",
    "  \n",
    "print(multiply(y=2,x=4))\n"
   ]
  },
  {
   "cell_type": "markdown",
   "id": "40423174",
   "metadata": {},
   "source": [
    "## 8. Python IF, ELSE, ELIF, Nested IF & Switch Case Statement"
   ]
  },
  {
   "cell_type": "code",
   "execution_count": 51,
   "id": "60fa4da1",
   "metadata": {},
   "outputs": [
    {
     "name": "stdout",
     "output_type": "stream",
     "text": [
      "x is less than y\n"
     ]
    }
   ],
   "source": [
    "#Example file for working with conditional statement\n",
    "#\n",
    "def main():\n",
    "\tx,y =2,8\n",
    "\t\n",
    "\tif(x < y):\n",
    "\t\tst= \"x is less than y\"\n",
    "\tprint(st)\n",
    "\t\n",
    "if __name__ == \"__main__\":\n",
    "\tmain()\n"
   ]
  },
  {
   "cell_type": "code",
   "execution_count": 52,
   "id": "b184b211",
   "metadata": {},
   "outputs": [
    {
     "name": "stdout",
     "output_type": "stream",
     "text": [
      "x is greater than y\n"
     ]
    }
   ],
   "source": [
    "#\n",
    "def main():\n",
    "\tx,y =8,4\n",
    "\t\n",
    "\tif(x < y):\n",
    "\t\tst= \"x is less than y\"\n",
    "\telse:\n",
    "\t\tst= \"x is greater than y\"\n",
    "\tprint (st)\n",
    "\t\n",
    "if __name__ == \"__main__\":\n",
    "\tmain()\n"
   ]
  },
  {
   "cell_type": "code",
   "execution_count": 53,
   "id": "32c25e66",
   "metadata": {},
   "outputs": [
    {
     "name": "stdout",
     "output_type": "stream",
     "text": [
      "x is greater than y\n"
     ]
    }
   ],
   "source": [
    "#\n",
    "#Example file for working with conditional statement\n",
    "#\n",
    "def main():\n",
    "\tx,y =8,8\n",
    "\t\n",
    "\tif(x < y):\n",
    "\t\tst= \"x is less than y\"\n",
    "\telse:\n",
    "\t\tst= \"x is greater than y\"\n",
    "\tprint(st)\n",
    "\t\n",
    "if __name__ == \"__main__\":\n",
    "\tmain()\n"
   ]
  },
  {
   "cell_type": "code",
   "execution_count": 54,
   "id": "161ab5ed",
   "metadata": {},
   "outputs": [
    {
     "name": "stdout",
     "output_type": "stream",
     "text": [
      "x is same as y\n"
     ]
    }
   ],
   "source": [
    "#\n",
    "#Example file for working with conditional statement\n",
    "#\n",
    "def main():\n",
    "\tx,y =8,8\n",
    "\t\n",
    "\tif(x < y):\n",
    "\t\tst= \"x is less than y\"\n",
    "\t\n",
    "\telif (x == y):\n",
    "\t\tst= \"x is same as y\"\n",
    "\t\n",
    "\telse:\n",
    "\t\tst=\"x is greater than y\"\n",
    "\tprint(st)\n",
    "\t\n",
    "if __name__ == \"__main__\":\n",
    "\tmain()\n"
   ]
  },
  {
   "cell_type": "code",
   "execution_count": 55,
   "id": "bfd83798",
   "metadata": {},
   "outputs": [
    {
     "name": "stdout",
     "output_type": "stream",
     "text": [
      "x is greater than or equal to y\n"
     ]
    }
   ],
   "source": [
    "def main():\n",
    "\tx,y = 10,8\n",
    "\tst = \"x is less than y\" if (x < y) else \"x is greater than or equal to y\"\n",
    "\tprint(st)\n",
    "\t\n",
    "if __name__ == \"__main__\":\n",
    "\tmain()\n"
   ]
  },
  {
   "cell_type": "code",
   "execution_count": 70,
   "id": "adc89b1b",
   "metadata": {},
   "outputs": [
    {
     "name": "stdout",
     "output_type": "stream",
     "text": [
      "Shipping Cost is $25\n"
     ]
    }
   ],
   "source": [
    "#Nested IF Statement\n",
    "\n",
    "total = 100\n",
    "#country = \"US\"\n",
    "country = \"AU\"\n",
    "if country == \"US\":\n",
    "    if total <= 50:\n",
    "        print(\"Shipping Cost is  $50\")\n",
    "elif total <= 100:\n",
    "        print(\"Shipping Cost is $25\")\n",
    "elif total <= 150:\n",
    "\t    print(\"Shipping Costs $5\")\n",
    "else:\n",
    "        print(\"FREE\")\n",
    "if country == \"AU\": \n",
    "\t  if total <= 50:\n",
    "\t    print(\"Shipping Cost is  $100\")\n",
    "else:\n",
    "\t    print(\"FREE\")\n"
   ]
  },
  {
   "cell_type": "code",
   "execution_count": 62,
   "id": "b1356db1",
   "metadata": {},
   "outputs": [
    {
     "name": "stdout",
     "output_type": "stream",
     "text": [
      " This is Case One \n"
     ]
    }
   ],
   "source": [
    "#Switch Statement\n",
    "def SwitchExample(argument):\n",
    "    switcher = {\n",
    "        0: \" This is Case Zero \",\n",
    "        1: \" This is Case One \",\n",
    "        2: \" This is Case Two \",\n",
    "    }\n",
    "    return switcher.get(argument, \"nothing\")\n",
    "\n",
    "\n",
    "if __name__ == \"__main__\":\n",
    "    argument = 1\n",
    "    print (SwitchExample(argument))\n",
    "\n"
   ]
  },
  {
   "cell_type": "markdown",
   "id": "73d8f65b",
   "metadata": {},
   "source": [
    "## 9. Python For & While Loops: Enumerate, Break, Continue Statement"
   ]
  },
  {
   "cell_type": "code",
   "execution_count": 63,
   "id": "40ba91ba",
   "metadata": {},
   "outputs": [
    {
     "name": "stdout",
     "output_type": "stream",
     "text": [
      "0\n",
      "1\n",
      "2\n",
      "3\n"
     ]
    }
   ],
   "source": [
    "#\n",
    "#Example file for working with loops\n",
    "#\n",
    "def main():\n",
    "\tx=0\n",
    "\t#define a while loop\n",
    "\twhile(x <4):\n",
    "\t\tprint(x)\n",
    "\t\tx = x+1\n",
    "\n",
    "if __name__ == \"__main__\":\n",
    "    main()\n"
   ]
  },
  {
   "cell_type": "code",
   "execution_count": 64,
   "id": "629709d6",
   "metadata": {},
   "outputs": [
    {
     "name": "stdout",
     "output_type": "stream",
     "text": [
      "2\n",
      "3\n",
      "4\n",
      "5\n",
      "6\n"
     ]
    }
   ],
   "source": [
    "#\n",
    "#Example file for working with loops\n",
    "#\n",
    "def main():\n",
    "\tx=0\n",
    "\t#define a while loop\n",
    "#\twhile(x <4):\n",
    "#\t\tprint x\n",
    "#\t\tx = x+1\n",
    "\n",
    "\n",
    "\t#Define a for loop \n",
    "for x in range(2,7):\n",
    "\t\tprint(x)\n",
    "\n",
    "\n",
    "if __name__ == \"__main__\":\n",
    "    main()\n"
   ]
  },
  {
   "cell_type": "code",
   "execution_count": 67,
   "id": "b5744344",
   "metadata": {},
   "outputs": [
    {
     "name": "stdout",
     "output_type": "stream",
     "text": [
      "Jan\n",
      "Feb\n",
      "Mar\n",
      "April\n",
      "May\n",
      "June\n"
     ]
    }
   ],
   "source": [
    "#How to use For Loop for String\n",
    "def main():\n",
    "\t#use a for loop over a collection\n",
    "\tMonths = [\"Jan\",\"Feb\",\"Mar\",\"April\",\"May\",\"June\"]\n",
    "\tfor m in Months:\n",
    "\t\tprint(m)\n",
    "\t\t\n",
    "if __name__ == \"__main__\":\n",
    "\tmain()\n"
   ]
  },
  {
   "cell_type": "code",
   "execution_count": 68,
   "id": "8b5f2e14",
   "metadata": {},
   "outputs": [
    {
     "name": "stdout",
     "output_type": "stream",
     "text": [
      "10\n",
      "11\n",
      "12\n",
      "13\n",
      "14\n"
     ]
    }
   ],
   "source": [
    "#How to use break statements in For Loop\n",
    "def main():\n",
    "\t#use a for loop over a collection\n",
    "\t#Months = [\"Jan\",\"Feb\",\"Mar\",\"April\",\"May\",\"June\"]\n",
    "\t#for m in Months:\n",
    "\t\t#print m\n",
    "\t\t\n",
    "# use the break and continue statements\n",
    "\t\t\n",
    "\t\t\n",
    "\t\tfor x in range (10,20):\n",
    "\t\t\tif (x == 15): break\n",
    "\t\t\t#if (x % 2 == 0) : continue\n",
    "\t\t\tprint(x)\n",
    "\n",
    "if __name__ == \"__main__\":\n",
    "\tmain()\n"
   ]
  },
  {
   "cell_type": "code",
   "execution_count": 69,
   "id": "d0dbf9b4",
   "metadata": {},
   "outputs": [
    {
     "name": "stdout",
     "output_type": "stream",
     "text": [
      "0 Jan\n",
      "1 Feb\n",
      "2 Mar\n",
      "3 April\n",
      "4 May\n",
      "5 June\n"
     ]
    }
   ],
   "source": [
    "def main():\n",
    "\t#use a for loop over a collection\n",
    "\tMonths = [\"Jan\",\"Feb\",\"Mar\",\"April\",\"May\",\"June\"]\n",
    "\tfor i, m in enumerate (Months):\n",
    "\t\tprint(i,m)\n",
    "\t\t\n",
    "# use the break and continue statements\n",
    "\t\t\n",
    "\t\t\n",
    "\t\t#for x in range (10,20):\n",
    "\t\t#if (x == 15): break\n",
    "\t\t#if (x % 5 == 0) : continue\n",
    "\t\t#print x\n",
    "\n",
    "\n",
    "\t\t\n",
    "if __name__ == \"__main__\":\n",
    "\tmain()\n"
   ]
  },
  {
   "cell_type": "markdown",
   "id": "bdf9202a",
   "metadata": {},
   "source": [
    "## 10. Python File Handling: Create, Open, Append, Read, Write"
   ]
  },
  {
   "cell_type": "code",
   "execution_count": 72,
   "id": "dc71c253",
   "metadata": {},
   "outputs": [],
   "source": [
    "#How to Create a Text File\n",
    "f= open(\"guru99.txt\",\"w+\")\n",
    "\n",
    "for i in range(10):\n",
    "     f.write(\"This is line %d\\r\\n\" % (i+1))\n",
    "\n",
    "f.close() "
   ]
  },
  {
   "cell_type": "code",
   "execution_count": 73,
   "id": "5ccea46d",
   "metadata": {},
   "outputs": [],
   "source": [
    "#How to Append Data to a File\n",
    "f=open(\"guru99.txt\", \"a+\")\n",
    "\n",
    "for i in range(2):\n",
    "     f.write(\"Appended line %d\\r\\n\" % (i+1))\n"
   ]
  },
  {
   "cell_type": "code",
   "execution_count": 76,
   "id": "503ede79",
   "metadata": {},
   "outputs": [],
   "source": [
    "#How to Read a File\n",
    "f=open(\"guru99.txt\", \"r\")\n",
    "\n",
    "if f.mode == 'r':\n",
    "    contents =f.read()"
   ]
  },
  {
   "cell_type": "code",
   "execution_count": 77,
   "id": "92db3132",
   "metadata": {},
   "outputs": [
    {
     "name": "stdout",
     "output_type": "stream",
     "text": [
      "file exist:True\n",
      "File exists:False\n",
      "directory exists:False\n"
     ]
    }
   ],
   "source": [
    "#Python Check If File or Directory Exists\n",
    "#os.path.exists()\n",
    "import os.path\n",
    "from os import path\n",
    "\n",
    "def main():\n",
    "\n",
    "   print (\"file exist:\"+str(path.exists('guru99.txt')))\n",
    "   print (\"File exists:\" + str(path.exists('career.guru99.txt')))\n",
    "   print (\"directory exists:\" + str(path.exists('myDirectory')))\n",
    "\n",
    "if __name__== \"__main__\":\n",
    "   main()\n"
   ]
  },
  {
   "cell_type": "code",
   "execution_count": 78,
   "id": "f866bafd",
   "metadata": {},
   "outputs": [
    {
     "name": "stdout",
     "output_type": "stream",
     "text": [
      "Is it File?True\n",
      "Is it File?False\n"
     ]
    }
   ],
   "source": [
    "#os.path.isfile()\n",
    "import os.path\n",
    "from os import path\n",
    "\n",
    "def main():\n",
    "\n",
    "\tprint (\"Is it File?\" + str(path.isfile('guru99.txt')))\n",
    "\tprint (\"Is it File?\" + str(path.isfile('myDirectory')))\n",
    "if __name__== \"__main__\":\n",
    "\tmain()\n",
    "\n"
   ]
  },
  {
   "cell_type": "code",
   "execution_count": 79,
   "id": "d2a3f9d3",
   "metadata": {},
   "outputs": [
    {
     "name": "stdout",
     "output_type": "stream",
     "text": [
      "Is it Directory?False\n",
      "Is it Directory?False\n"
     ]
    }
   ],
   "source": [
    "#os.path.isdir()\n",
    "import os.path\n",
    "from os import path\n",
    "\n",
    "def main():\n",
    "\n",
    "   print (\"Is it Directory?\" + str(path.isdir('guru99.txt')))\n",
    "   print (\"Is it Directory?\" + str(path.isdir('myDirectory')))\n",
    "\n",
    "if __name__== \"__main__\":\n",
    "   main()\n"
   ]
  },
  {
   "cell_type": "code",
   "execution_count": 81,
   "id": "88fb17ee",
   "metadata": {},
   "outputs": [
    {
     "name": "stdout",
     "output_type": "stream",
     "text": [
      "Item exists:True\n",
      "Item is a file: True\n",
      "Item is a directory: False\n",
      "nt\n"
     ]
    }
   ],
   "source": [
    "#pathlibPath.exists() For Python 3.4\n",
    "import os\n",
    "from os import path\n",
    "\n",
    "def main():\n",
    "    # Print the name of the OS\n",
    "    print(os.name)\n",
    "#Check for item existence and type\n",
    "print(\"Item exists:\" + str(path.exists(\"guru99.txt\")))\n",
    "print(\"Item is a file: \" + str(path.isfile(\"guru99.txt\")))\n",
    "print(\"Item is a directory: \" + str(path.isdir(\"guru99.txt\")))\n",
    "\n",
    "if __name__ == \"__main__\":\n",
    "    main()\n",
    "\n"
   ]
  },
  {
   "cell_type": "markdown",
   "id": "a7780e16",
   "metadata": {},
   "source": [
    "## 11. Python COPY File using shutil.copy(), shutil.copystat()"
   ]
  },
  {
   "cell_type": "code",
   "execution_count": 84,
   "id": "0c4293a0",
   "metadata": {},
   "outputs": [
    {
     "name": "stdout",
     "output_type": "stream",
     "text": [
      "Wed Jul 20 16:00:33 2022\n",
      "2022-07-20 16:00:33.949353\n"
     ]
    }
   ],
   "source": [
    "#\n",
    "# Example file for working with o.s path module\n",
    "\n",
    "\n",
    "import os\n",
    "from os import path\n",
    "import datetime\n",
    "from datetime import date, time, timedelta\n",
    "import time\n",
    "\n",
    "with open('bhavesh.txt.bak', 'wt') as fp:\n",
    "    fp.write('backup')\n",
    "    \n",
    "def main():\n",
    "\n",
    "\n",
    "    # Get the modification time\n",
    "    t = time.ctime(path.getmtime(\"bhavesh.txt.bak\"))\n",
    "    print(t)\n",
    "    print(datetime.datetime.fromtimestamp(path.getmtime(\"bhavesh.txt.bak\")))\n",
    "\n",
    "\n",
    "if __name__ == \"__main__\":\n",
    "    main()\n"
   ]
  },
  {
   "cell_type": "markdown",
   "id": "23338a58",
   "metadata": {},
   "source": [
    "## 12. Python Rename File and Directory using os.rename()"
   ]
  },
  {
   "cell_type": "code",
   "execution_count": 88,
   "id": "e604b399",
   "metadata": {},
   "outputs": [],
   "source": [
    "with open ('bhavesh.txt','w') as fp:\n",
    "    fp.write('Hello')\n",
    "    \n",
    "import os  \n",
    "os.rename('bhavesh.txt','career.bhavesh.txt') \n"
   ]
  },
  {
   "cell_type": "code",
   "execution_count": 92,
   "id": "71c7adbc",
   "metadata": {},
   "outputs": [],
   "source": [
    "import os\n",
    "import shutil\n",
    "from os import path\n",
    "\n",
    "\n",
    "\n",
    "def main():\n",
    "\t# make a duplicate of an existing file\n",
    "    if path.exists(\"bhavesh.txt\"):\n",
    "\t# get the path to the file in the current directory\n",
    "        src = path.realpath(\"bhavesh.txt\");\n",
    "\t\t\n",
    "\t# rename the original file\n",
    "        os.rename(\"career.bhavesh.txt\",\"bhavesh.txt\")\n",
    "\t\t\n",
    "if __name__ == \"__main__\":\n",
    "    main()\n"
   ]
  },
  {
   "cell_type": "markdown",
   "id": "e18e3607",
   "metadata": {},
   "source": [
    " ## 13. Python ZIP file with Example"
   ]
  },
  {
   "cell_type": "code",
   "execution_count": 100,
   "id": "e70a4044",
   "metadata": {},
   "outputs": [],
   "source": [
    "import os\n",
    "import shutil\n",
    "from zipfile import ZipFile\n",
    "from os import path\n",
    "from shutil import make_archive\n",
    "\n",
    "    # Check if file exists\n",
    "if path.exists(\"bhavesh.txt\"):\n",
    "    # get the path to the file in the current directory\n",
    "    src = path.realpath(\"bhavesh.txt\");\n",
    "    # rename the original file\n",
    "    os.rename(\"career.bhavesh.txt\",\"bhavesh.txt\")\n",
    "    # now put things into a ZIP archive\n",
    "    root_dir,tail = path.split(src)\n",
    "    shutil.make_archive(\"bhavesh archive\",\"zip\",root_dir)\n",
    "    # more fine-grained control over ZIP files\n",
    "    with ZipFile(\"bhavesh.zip\", \"w\") as newzip:\n",
    "        newzip.write(\"bhavesh.txt\")\n",
    "        newzip.write(\"bhavesh.txt.bak\")\n"
   ]
  },
  {
   "cell_type": "markdown",
   "id": "6df9774d",
   "metadata": {},
   "source": [
    "## 14. Python Internet Access using Urllib.Request and urlopen()"
   ]
  },
  {
   "cell_type": "code",
   "execution_count": 108,
   "id": "8eba076f",
   "metadata": {},
   "outputs": [
    {
     "name": "stdout",
     "output_type": "stream",
     "text": [
      "result code: 200\n"
     ]
    }
   ],
   "source": [
    "#\n",
    "# read the data from the URL and print it\n",
    "#\n",
    "import urllib.request\n",
    "# open a connection to a URL using urllib\n",
    "webUrl  = urllib.request.urlopen('https://www.youtube.com/user/guru99com')\n",
    "\n",
    "#get the result code and print it\n",
    "print (\"result code: \" + str(webUrl.getcode()))\n",
    "\n",
    "# read the data from the URL and print it\n",
    "data = webUrl.read()\n",
    "print (data)\n"
   ]
  }
 ],
 "metadata": {
  "kernelspec": {
   "display_name": "Python 3 (ipykernel)",
   "language": "python",
   "name": "python3"
  },
  "language_info": {
   "codemirror_mode": {
    "name": "ipython",
    "version": 3
   },
   "file_extension": ".py",
   "mimetype": "text/x-python",
   "name": "python",
   "nbconvert_exporter": "python",
   "pygments_lexer": "ipython3",
   "version": "3.9.12"
  }
 },
 "nbformat": 4,
 "nbformat_minor": 5
}
